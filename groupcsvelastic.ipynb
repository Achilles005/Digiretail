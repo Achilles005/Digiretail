{
 "cells": [
  {
   "cell_type": "code",
   "execution_count": 1,
   "metadata": {},
   "outputs": [],
   "source": [
    "from elasticsearch import Elasticsearch"
   ]
  },
  {
   "cell_type": "code",
   "execution_count": 2,
   "metadata": {},
   "outputs": [],
   "source": [
    "es = Elasticsearch(\"http://101.53.136.181:9200/\")"
   ]
  },
  {
   "cell_type": "code",
   "execution_count": 3,
   "metadata": {},
   "outputs": [
    {
     "data": {
      "text/plain": [
       "{'acknowledged': True, 'shards_acknowledged': True, 'index': 'groupcsv'}"
      ]
     },
     "execution_count": 3,
     "metadata": {},
     "output_type": "execute_result"
    }
   ],
   "source": [
    "es.indices.create(index=\"groupcsv\")"
   ]
  },
  {
   "cell_type": "code",
   "execution_count": 5,
   "metadata": {},
   "outputs": [
    {
     "data": {
      "text/plain": [
       "{'acknowledged': True}"
      ]
     },
     "execution_count": 5,
     "metadata": {},
     "output_type": "execute_result"
    }
   ],
   "source": [
    "es.indices.put_mapping(\n",
    "    index=\"groupcsv\",\n",
    "    doc_type=\"groupdetails\",\n",
    "    body=\n",
    "        {\n",
    "\n",
    "                \"properties\": {\n",
    "                    \"group name\": {\n",
    "                        \"type\": \"text\",\n",
    "                        \"fields\": {\n",
    "                            \"keyword\": {\n",
    "                                \"type\": \"keyword\",\n",
    "                                \"ignore_above\": 256\n",
    "                            }\n",
    "                        }\n",
    "                    },\n",
    "                    \"group description\": {\n",
    "                        \"type\": \"text\",\n",
    "                        \"fields\": {\n",
    "                            \"keyword\": {\n",
    "                                \"type\": \"keyword\",\n",
    "                                \"ignore_above\": 256\n",
    "                            }\n",
    "                        }\n",
    "                    },\n",
    "                    \"isActive\": {\n",
    "                        \"type\": \"keyword\",\n",
    "                        \"ignore_above\":256\n",
    "                    }\n",
    "                }\n",
    "            }\n",
    ")\n"
   ]
  },
  {
   "cell_type": "code",
   "execution_count": 6,
   "metadata": {},
   "outputs": [
    {
     "data": {
      "text/plain": [
       "{'groupcsv': {'mappings': {'groupdetails': {'properties': {'group description': {'type': 'text',\n",
       "      'fields': {'keyword': {'type': 'keyword', 'ignore_above': 256}}},\n",
       "     'group name': {'type': 'text',\n",
       "      'fields': {'keyword': {'type': 'keyword', 'ignore_above': 256}}},\n",
       "     'isActive': {'type': 'keyword', 'ignore_above': 256}}}}}}"
      ]
     },
     "execution_count": 6,
     "metadata": {},
     "output_type": "execute_result"
    }
   ],
   "source": [
    "es.indices.get_mapping(index='groupcsv', doc_type='groupdetails')"
   ]
  },
  {
   "cell_type": "code",
   "execution_count": 7,
   "metadata": {},
   "outputs": [
    {
     "data": {
      "text/html": [
       "<div>\n",
       "<style scoped>\n",
       "    .dataframe tbody tr th:only-of-type {\n",
       "        vertical-align: middle;\n",
       "    }\n",
       "\n",
       "    .dataframe tbody tr th {\n",
       "        vertical-align: top;\n",
       "    }\n",
       "\n",
       "    .dataframe thead th {\n",
       "        text-align: right;\n",
       "    }\n",
       "</style>\n",
       "<table border=\"1\" class=\"dataframe\">\n",
       "  <thead>\n",
       "    <tr style=\"text-align: right;\">\n",
       "      <th></th>\n",
       "      <th>group name</th>\n",
       "      <th>group description</th>\n",
       "      <th>isActive</th>\n",
       "    </tr>\n",
       "  </thead>\n",
       "  <tbody>\n",
       "    <tr>\n",
       "      <th>0</th>\n",
       "      <td>Group 1</td>\n",
       "      <td>Group Number 1</td>\n",
       "      <td>yes</td>\n",
       "    </tr>\n",
       "    <tr>\n",
       "      <th>1</th>\n",
       "      <td>Group 2</td>\n",
       "      <td>Group Number 2</td>\n",
       "      <td>yes</td>\n",
       "    </tr>\n",
       "    <tr>\n",
       "      <th>2</th>\n",
       "      <td>Group 3</td>\n",
       "      <td>Group Number 3</td>\n",
       "      <td>yes</td>\n",
       "    </tr>\n",
       "    <tr>\n",
       "      <th>3</th>\n",
       "      <td>Group 4</td>\n",
       "      <td>Group Number 4</td>\n",
       "      <td>yes</td>\n",
       "    </tr>\n",
       "    <tr>\n",
       "      <th>4</th>\n",
       "      <td>Group 5</td>\n",
       "      <td>Group Number 5</td>\n",
       "      <td>yes</td>\n",
       "    </tr>\n",
       "  </tbody>\n",
       "</table>\n",
       "</div>"
      ],
      "text/plain": [
       "  group name group description isActive\n",
       "0    Group 1    Group Number 1      yes\n",
       "1    Group 2    Group Number 2      yes\n",
       "2    Group 3    Group Number 3      yes\n",
       "3    Group 4    Group Number 4      yes\n",
       "4    Group 5    Group Number 5      yes"
      ]
     },
     "execution_count": 7,
     "metadata": {},
     "output_type": "execute_result"
    }
   ],
   "source": [
    "import pandas as pd\n",
    "grp=pd.read_csv(\"g.csv\")\n",
    "grp.head()"
   ]
  },
  {
   "cell_type": "code",
   "execution_count": 9,
   "metadata": {},
   "outputs": [
    {
     "name": "stdout",
     "output_type": "stream",
     "text": [
      "new\n",
      "Group 1 Group Number 1 yes\n",
      "new\n",
      "Group 2 Group Number 2 yes\n",
      "new\n",
      "Group 3 Group Number 3 yes\n",
      "new\n",
      "Group 4 Group Number 4 yes\n",
      "new\n",
      "Group 5 Group Number 5 yes\n",
      "new\n",
      "Group 6 Group Number 6 yes\n",
      "new\n",
      "Group 7 Group Number 7 yes\n",
      "new\n",
      "Group 8 Group Number 8 yes\n",
      "new\n",
      "Group 9 Group Number 9 yes\n",
      "new\n",
      "Group 10 Group Number 10 yes\n",
      "new\n",
      "Group 11 Group Number 11 yes\n",
      "new\n",
      "Group 12 Group Number 12 yes\n",
      "new\n",
      "Group 13 Group Number 13 yes\n",
      "new\n",
      "Group 14 Group Number 14 yes\n",
      "new\n",
      "Group 15 Group Number 15 yes\n",
      "new\n",
      "Group 16 Group Number 16 yes\n",
      "new\n",
      "Group 17 Group Number 17 yes\n",
      "new\n",
      "Group 18 Group Number 18 yes\n",
      "new\n",
      "Group 19 Group Number 19 yes\n",
      "new\n",
      "Group 20 Group Number 20 yes\n",
      "new\n",
      "Group 21 Group Number 21 yes\n",
      "new\n",
      "Group 22 Group Number 22 yes\n"
     ]
    }
   ],
   "source": [
    "#es.indices.get_mapping(index='groupcsv', doc_type='groupdetails')\n",
    "i=0\n",
    "while i<len(grp):\n",
    "    groupname=grp['group name'].iloc[i]\n",
    "    groupd=grp['group description'].iloc[i]\n",
    "    ia=grp['isActive'].iloc[i]\n",
    "    print(\"new\")\n",
    "    print(groupname+\" \"+groupd+\" \"+ia)\n",
    "    doc = {\"group name\":groupname, \"group description\":groupd,\"isActive\":ia}\n",
    "    es.index(index=\"groupcsv\", doc_type=\"groupdetails\", body=doc)\n",
    "    i=i+1\n"
   ]
  }
 ],
 "metadata": {
  "kernelspec": {
   "display_name": "Python 3",
   "language": "python",
   "name": "python3"
  },
  "language_info": {
   "codemirror_mode": {
    "name": "ipython",
    "version": 3
   },
   "file_extension": ".py",
   "mimetype": "text/x-python",
   "name": "python",
   "nbconvert_exporter": "python",
   "pygments_lexer": "ipython3",
   "version": "3.7.3"
  }
 },
 "nbformat": 4,
 "nbformat_minor": 2
}
